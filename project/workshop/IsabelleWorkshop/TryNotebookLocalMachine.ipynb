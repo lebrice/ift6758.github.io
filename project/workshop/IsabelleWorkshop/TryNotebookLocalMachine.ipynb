{
 "cells": [
  {
   "cell_type": "code",
   "execution_count": null,
   "metadata": {},
   "outputs": [],
   "source": [
    "#I was able to hookup a notebook on the server to my local machine using a tunnel"
   ]
  },
  {
   "cell_type": "code",
   "execution_count": 1,
   "metadata": {},
   "outputs": [
    {
     "name": "stdout",
     "output_type": "stream",
     "text": [
      "/home/mila/teaching/user07/IsabelleWorkshop\r\n"
     ]
    }
   ],
   "source": [
    "!pwd"
   ]
  },
  {
   "cell_type": "code",
   "execution_count": null,
   "metadata": {},
   "outputs": [],
   "source": [
    "\"\"\"\n",
    "HOW TO RUN NOTEBOOK HOOKED UP TO SERVER\n",
    "To run the notebook on your local machine:\n",
    "If using putty:\n",
    "->Load your session\n",
    "->Go to SSH>Tunnels\n",
    "->source port, input 8000 (your local machine port)\n",
    "->Destination, input 8889 (notebook run on that port) as of 2019-11-01\n",
    "->Add\n",
    "->Open the ssh session\n",
    "\n",
    "In the server type: jupyter notebook\n",
    "->Copy the URL\n",
    "\n",
    "In your webBrowser:\n",
    "->Paste URL !!!!!!BUT CHANGE localhost:8890 to localhost:8000!!!!!!! (necessary to run on local port)\n",
    "\n",
    "ENJOY WORKING ON THE NOTEBOOK INTERFACE!!!(๑•̀ㅂ•́)و✧\n",
    "\n",
    "TA guide:https://docs.google.com/document/d/1ncpyEYqiVgunzAvFALPvvBytYpJV53-_cLXb6evmqOc/edit\n",
    "source: https://www.digitalocean.com/community/tutorials/hoaw-to-install-run-connect-to-jupyter-notebook-on-remote-server\n",
    "\"\"\""
   ]
  },
  {
   "cell_type": "code",
   "execution_count": 1,
   "metadata": {},
   "outputs": [],
   "source": [
    "import pandas as pd\n",
    "import numpy as np"
   ]
  },
  {
   "cell_type": "code",
   "execution_count": 3,
   "metadata": {},
   "outputs": [],
   "source": [
    "df = pd.read_csv(\"/home/mila/teaching/user07/Train/Relation/Relation.csv\")"
   ]
  },
  {
   "cell_type": "code",
   "execution_count": 4,
   "metadata": {},
   "outputs": [
    {
     "data": {
      "text/plain": [
       "(10,)"
      ]
     },
     "execution_count": 4,
     "metadata": {},
     "output_type": "execute_result"
    }
   ],
   "source": [
    "#df.info()\n",
    "#a = np.zeros(10)\n",
    "#a.shape"
   ]
  },
  {
   "cell_type": "code",
   "execution_count": null,
   "metadata": {},
   "outputs": [],
   "source": [
    "#It works!!! ***\\( T   u   T)/***"
   ]
  }
 ],
 "metadata": {
  "kernelspec": {
   "display_name": "Python 3",
   "language": "python",
   "name": "python3"
  },
  "language_info": {
   "codemirror_mode": {
    "name": "ipython",
    "version": 3
   },
   "file_extension": ".py",
   "mimetype": "text/x-python",
   "name": "python",
   "nbconvert_exporter": "python",
   "pygments_lexer": "ipython3",
   "version": "3.7.3"
  }
 },
 "nbformat": 4,
 "nbformat_minor": 2
}
